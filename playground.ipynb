{
 "cells": [
  {
   "cell_type": "code",
   "execution_count": 3,
   "id": "99aec52d-1590-4e59-9168-0399f5993b20",
   "metadata": {},
   "outputs": [
    {
     "name": "stdout",
     "output_type": "stream",
     "text": [
      "Epoch 0, Loss: 0.7192\n",
      "Epoch 20, Loss: 0.4089\n",
      "Epoch 40, Loss: 0.2680\n",
      "Epoch 60, Loss: 0.1941\n",
      "Epoch 80, Loss: 0.1503\n",
      "Output for '0': 0.09572041034698486\n",
      "Output for '1': 0.8666338920593262\n"
     ]
    }
   ],
   "source": [
    "import torch\n",
    "from torch import nn\n",
    "\n",
    "# Model\n",
    "class SigmoidNeuron(nn.Module):\n",
    "    def __init__(self, input_size):\n",
    "        super().__init__()\n",
    "        self.flatten = nn.Flatten()\n",
    "        self.linear = nn.Linear(input_size, 1)\n",
    "        self.sigmoid = nn.Sigmoid()\n",
    "    def forward(self, x):\n",
    "        x = self.flatten(x)\n",
    "        z = self.linear(x)\n",
    "        output = self.sigmoid(z)\n",
    "        return output\n",
    "\n",
    "model = SigmoidNeuron(16)\n",
    "\n",
    "# Data\n",
    "x_1 = torch.tensor([[0.1, 0.8, 0.1, 0.1],\n",
    "                    [0.1, 0.9, 0.1, 0.1],\n",
    "                    [0.1, 0.7, 0.1, 0.1],\n",
    "                    [0.1, 0.8, 0.1, 0.1]]).float()  # \"1\"\n",
    "x_0 = torch.tensor([[0.1, 0.8, 0.8, 0.1],\n",
    "                    [0.8, 0.1, 0.1, 0.8],\n",
    "                    [0.8, 0.1, 0.1, 0.8],\n",
    "                    [0.1, 0.8, 0.8, 0.1]]).float()  # \"0\"\n",
    "x = torch.stack([x_0, x_1])\n",
    "y = torch.tensor([0., 1.])\n",
    "\n",
    "# Loss and optimizer\n",
    "criterion = nn.BCELoss()\n",
    "optimizer = torch.optim.SGD(model.parameters(), lr=0.1)\n",
    "\n",
    "# Train\n",
    "for epoch in range(100):\n",
    "    output = model(x)\n",
    "    loss = criterion(output.squeeze(), y)\n",
    "    optimizer.zero_grad()\n",
    "    loss.backward()\n",
    "    optimizer.step()\n",
    "    if epoch % 20 == 0:\n",
    "        print(f\"Epoch {epoch}, Loss: {loss.item():.4f}\")\n",
    "\n",
    "# Test\n",
    "with torch.no_grad():\n",
    "    print(\"Output for '0':\", model(x_0.unsqueeze(0)).item())\n",
    "    print(\"Output for '1':\", model(x_1.unsqueeze(0)).item())"
   ]
  },
  {
   "cell_type": "code",
   "execution_count": null,
   "id": "95a16d1e-0949-4626-975a-6e643951de7d",
   "metadata": {},
   "outputs": [],
   "source": []
  }
 ],
 "metadata": {
  "kernelspec": {
   "display_name": "Python 3 (ipykernel)",
   "language": "python",
   "name": "python3"
  },
  "language_info": {
   "codemirror_mode": {
    "name": "ipython",
    "version": 3
   },
   "file_extension": ".py",
   "mimetype": "text/x-python",
   "name": "python",
   "nbconvert_exporter": "python",
   "pygments_lexer": "ipython3",
   "version": "3.12.7"
  }
 },
 "nbformat": 4,
 "nbformat_minor": 5
}
